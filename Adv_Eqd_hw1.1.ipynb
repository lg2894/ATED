{
 "cells": [
  {
   "cell_type": "code",
   "execution_count": 4,
   "metadata": {},
   "outputs": [],
   "source": [
    "import math\n",
    "import numpy as np\n",
    "import pandas as pd\n",
    "import scipy.stats as scs\n",
    "import statsmodels.api as sm\n",
    "import matplotlib as mpl\n",
    "import matplotlib.pyplot as plt\n",
    "from scipy.integrate import quad\n"
   ]
  },
  {
   "cell_type": "code",
   "execution_count": 2,
   "metadata": {},
   "outputs": [],
   "source": [
    "def simulate_gbm():\n",
    "    #model parameters\n",
    "    S0=2600 #initial S&P500 index level\n",
    "    T=1\n",
    "    vol=0.2\n",
    "    \n",
    "    #simulate parameters\n",
    "    np.random.seed(10000)\n",
    "    gbm_dates=pd.DatetimeIndex(start='13-04-2018',end='12-04-2019',freq='B')\n",
    "    M = len(gbm_dates) #time steps\n",
    "    I=1 #index level paths\n",
    "    dt = 1/252 \n",
    "    df=1 #discount factor is 1 because interest rate is 0\n",
    "    \n",
    "    #stock price paths\n",
    "    rand = np.random.standard_normal((M,I))#random numbers\n",
    "    S = np.zeros_like(rand) #stock matrix\n",
    "    S[0]=S0 #initial index\n",
    "    for t in range(1,M): \n",
    "        S[t]=S[t-1]*np.exp((-vol**2/2)*dt+vol*rand[t]*math.sqrt(dt))\n",
    "    gbm=pd.DataFrame(S[:,0],index=gbm_dates,columns=['index'])\n",
    "    return gbm\n",
    "\n",
    "\n",
    "    \n",
    "    \n",
    "    "
   ]
  },
  {
   "cell_type": "code",
   "execution_count": 5,
   "metadata": {},
   "outputs": [],
   "source": [
    "def dN(X):\n",
    "    #probability density function of standard normal random variable x\n",
    "    return math.exp(-0.5*x**2)/math.sqrt(2*math.pi)\n",
    "\n",
    "def N(d):\n",
    "    #cumulative density function of standard normal random variable x\n",
    "    return quad(lambda x:dN(x),-20,d,limit=50)[0]\n",
    "\n",
    "def d1f(St,K,t,T,r,sigma):\n",
    "    #B-S d1 function\n",
    "    d1 = (math.log(St/K)+(r+0.5*sigma**2)*(T-t))/(sigma*math.sqrt(T-t))\n",
    "    return d1\n",
    "\n",
    "def BSM_delta(St,K,t,T,r,sigma):\n",
    "    #BS delta of European call\n",
    "    d1 = d1f(St,K,t,T,r,sigma)\n",
    "    delta = N(d1)\n",
    "    return delta\n",
    "    \n",
    "def BSM_gamma(St,K,t,T,r,sigma):\n",
    "    #BS gamma of European call\n",
    "    d1 = d1f(St,K,t,T,r,sigma)\n",
    "    gamma = dN(d1)/(St*sigma*math.sqrt(T-t))\n",
    "    return gamma\n",
    "\n",
    "def BSM_theta(St,K,t,T,r,sigma):\n",
    "    d1 = d1f(St,K,t,T,r,sigma)\n",
    "    d2 = d1 - sigma*math.sqrt(T-t)\n",
    "    theta = -(St*dN(d1)*sigma/(2*math.sqrt(T-t))+r*K*math.exp(-r*(T-t)*N(d2)))\n",
    "    return theta\n"
   ]
  },
  {
   "cell_type": "code",
   "execution_count": null,
   "metadata": {},
   "outputs": [],
   "source": []
  }
 ],
 "metadata": {
  "kernelspec": {
   "display_name": "Python 3",
   "language": "python",
   "name": "python3"
  },
  "language_info": {
   "codemirror_mode": {
    "name": "ipython",
    "version": 3
   },
   "file_extension": ".py",
   "mimetype": "text/x-python",
   "name": "python",
   "nbconvert_exporter": "python",
   "pygments_lexer": "ipython3",
   "version": "3.6.4"
  }
 },
 "nbformat": 4,
 "nbformat_minor": 2
}
