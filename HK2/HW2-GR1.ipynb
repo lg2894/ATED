{
 "cells": [
  {
   "cell_type": "markdown",
   "metadata": {},
   "source": [
    "# Homework 2 ATED - Group 1"
   ]
  },
  {
   "cell_type": "code",
   "execution_count": 1,
   "metadata": {
    "scrolled": true
   },
   "outputs": [
    {
     "name": "stdout",
     "output_type": "stream",
     "text": [
      "Populating the interactive namespace from numpy and matplotlib\n"
     ]
    }
   ],
   "source": [
    "%pylab inline\n",
    "import math\n",
    "import time\n",
    "import copy\n",
    "import numpy as np\n",
    "import pandas as pd\n",
    "import matplotlib.pyplot as plt\n",
    "from scipy import optimize\n",
    "from scipy.integrate import quad\n",
    "import scipy.stats as ss\n",
    "import sympy as sp\n",
    "import fmt\n",
    "plt.style.use('dark_background')"
   ]
  },
  {
   "cell_type": "markdown",
   "metadata": {},
   "source": [
    "## HW2-1"
   ]
  },
  {
   "cell_type": "markdown",
   "metadata": {},
   "source": [
    "##### (a) Estimate the market price of the $5\\%$ call spread (i.e. with strikes ATM and $5\\%$ OTM). What about the $5\\%$ put spread?"
   ]
  },
  {
   "cell_type": "code",
   "execution_count": 2,
   "metadata": {
    "scrolled": true
   },
   "outputs": [
    {
     "name": "stdout",
     "output_type": "stream",
     "text": [
      "5% call spread: 141.0\n",
      "5% put spread 102.19999999999999\n"
     ]
    }
   ],
   "source": [
    "# Market prices\n",
    "MarketCS = 478.1-337.1\n",
    "MarketPS = 428.3-326.1\n",
    "\n",
    "print(\"5% call spread:\", MarketCS)\n",
    "print(\"5% put spread\", MarketPS)"
   ]
  },
  {
   "cell_type": "markdown",
   "metadata": {},
   "source": [
    "##### (b) If you were to price the spreads in the Black-Scholes model using a single volatility parameter $\\sigma$, what value of $\\sigma$ would match the theoretical price with the market price? Comment on your results."
   ]
  },
  {
   "cell_type": "code",
   "execution_count": 3,
   "metadata": {
    "collapsed": true,
    "scrolled": true
   },
   "outputs": [],
   "source": [
    "# Elementary functions\n",
    "dN = lambda x: math.exp(-0.5*x**2)/math.sqrt(2*math.pi)\n",
    "#N = lambda d: quad(lambda x:dN(x),-np.inf,d)[0]\n",
    "N = lambda d: ss.norm.cdf(d)\n",
    "d1 = lambda sigma,St,K,t,T,r: (math.log(St/K)+(r+0.5*sigma**2)*(T-t))/(sigma*math.sqrt(T-t))\n",
    "d2 = lambda sigma,St,K,t,T,r: d1(sigma,St,K,t,T,r) - sigma * sqrt(T-t)\n",
    "\n",
    "# B-S call price\n",
    "BSCall = lambda sigma,St,K,t,T,r: St * N(d1(sigma,St,K,t,T,r)) - K * exp(-r*(T-t)) * N(d2(sigma,St,K,t,T,r))\n",
    "BSPut = lambda sigma,St,K,t,T,r: K * exp(-r*(T-t)) * N(-d2(sigma,St,K,t,T,r)) - St * N(-d1(sigma,St,K,t,T,r))"
   ]
  },
  {
   "cell_type": "code",
   "execution_count": 4,
   "metadata": {
    "collapsed": true,
    "scrolled": true
   },
   "outputs": [],
   "source": [
    "# Parameters\n",
    "St = 5448\n",
    "K = 5450\n",
    "K95 = 5200\n",
    "K105 = 5750\n",
    "t = 0\n",
    "T = 1\n",
    "r = 0.0125\n",
    "\n",
    "# CS B-S price\n",
    "BSCS = lambda sigma: BSCall(sigma,St,K95,t,T,r) - BSCall(sigma,St,K,t,T,r)\n",
    "BSCSvol = lambda sigma: BSCall(sigma,St,K95,t,T,r) - BSCall(sigma,St,K,t,T,r) - MarketCS\n",
    "BSPSVol = lambda sigma: BSPut(sigma,St,K105,t,T,r) - BSPut(sigma,St,K,t,T,r) - MarketPS"
   ]
  },
  {
   "cell_type": "code",
   "execution_count": 5,
   "metadata": {
    "scrolled": true
   },
   "outputs": [
    {
     "name": "stdout",
     "output_type": "stream",
     "text": [
      "[0.14133943] [0.17103379]\n"
     ]
    }
   ],
   "source": [
    "# Implied vols\n",
    "sigmaCS = optimize.root(BSCSvol, x0=[0.01])\n",
    "sigmaPS = optimize.root(BSPSVol, x0=[0.01])\n",
    "print(sigmaCS.x, sigmaPS.x)"
   ]
  },
  {
   "cell_type": "markdown",
   "metadata": {},
   "source": [
    "We find an \"implied volatility\" of about 14.13% for the call spread and 17.10% for the put spread, which is in the range of volatility observed for put and call option until 5% OTM."
   ]
  },
  {
   "cell_type": "markdown",
   "metadata": {},
   "source": [
    "## HW2-2"
   ]
  },
  {
   "cell_type": "markdown",
   "metadata": {},
   "source": [
    "##### (a) Using the numerical package of your choice, calibrate the parameters of the SVI model against the market-implied volatility data. Show a comparative graph of the SVI curve and the actual implied volatility data points."
   ]
  },
  {
   "cell_type": "code",
   "execution_count": 6,
   "metadata": {
    "collapsed": true,
    "scrolled": true
   },
   "outputs": [],
   "source": [
    "# Auxiliary function to read percentages\n",
    "p2f = lambda x: float(x.strip('%'))/100\n",
    "toY = lambda x: float(x)/349\n",
    "\n",
    "# Read spot indicators\n",
    "spotIndicators = (pd.read_csv(\"HW2_data.csv\",nrows=4,usecols=[0,1],header=None)).T\n",
    "spotIndicators.columns = spotIndicators.iloc[0]\n",
    "spotIndicators = spotIndicators.reindex(spotIndicators.index.drop(0))\n",
    "\n",
    "# Parameters\n",
    "NDX = float(spotIndicators.iloc[0,0])\n",
    "r = p2f(spotIndicators.iloc[0,1])\n",
    "f = float(spotIndicators.iloc[0,2])\n",
    "T = toY(spotIndicators.iloc[0,3])\n",
    "\n",
    "# Read options data\n",
    "optionsData = pd.read_csv(\"HW2_data.csv\",skiprows=5, nrows=54, usecols=[0,1,2,3,4,5,6,7,8,9,10,11])\n",
    "CK, CB, CA, CM = (optionsData.iloc[:,0]).astype(float), (optionsData.iloc[:,2]).astype(float), (optionsData.iloc[:,3]).astype(float), (optionsData.iloc[:,4]).astype(float)\n",
    "CIV = [p2f(x) for x in optionsData.iloc[:,5]]\n",
    "PK, PB, PA, PM = (optionsData.iloc[:,6]).astype(float), (optionsData.iloc[:,8]).astype(float), (optionsData.iloc[:,9]).astype(float), (optionsData.iloc[:,10]).astype(float)\n",
    "PIV = [p2f(x) for x in optionsData.iloc[:,11]]"
   ]
  },
  {
   "cell_type": "code",
   "execution_count": 7,
   "metadata": {
    "collapsed": true,
    "scrolled": true
   },
   "outputs": [],
   "source": [
    "# SVI vol expression\n",
    "impliedVolSVImodel = lambda a,b,rho,m,s,k : np.sqrt(a + b * (rho * (log(k/f) - m) + np.sqrt((log(k/f)-m)**2 + s**2)))\n",
    "\n",
    "# Residual sum of squares of the regression\n",
    "def RSS(params): a,b,rho,m,s = params; return(np.sum([(impliedVolSVImodel(a,b,rho,m,s,k)**2 - CIV[i]**2)**2 + (impliedVolSVImodel(a,b,rho,m,s,k)**2 - PIV[i]**2)**2 for i,k in enumerate(CK)]))"
   ]
  },
  {
   "cell_type": "code",
   "execution_count": 8,
   "metadata": {
    "scrolled": true
   },
   "outputs": [
    {
     "name": "stdout",
     "output_type": "stream",
     "text": [
      "[3.63891908e-04 2.54545815e+00 9.61104282e-01 2.39034320e-01\n",
      " 1.48721402e-02]\n"
     ]
    }
   ],
   "source": [
    "# Initial values and constraints\n",
    "startPoint = [0.009,0.11,0.5,0.2,0.05]\n",
    "eps = 0.0001\n",
    "boundsSet = ((0+eps, None), (0+eps, None),(-1+eps, 1-eps),(None, None),(0+eps, None))\n",
    "\n",
    "# No arbitrage\n",
    "constraintsSet = ({'type': 'ineq', 'fun': lambda x:  x[1] * (1 + abs(x[2])) - 4})\n",
    "\n",
    "# Calibration\n",
    "result = optimize.minimize(fun=RSS, x0=startPoint, method='SLSQP', bounds=boundsSet, constraints=constraintsSet, options={'disp': False})\n",
    "if result.success: fitted_params = result.x; print(fitted_params)\n",
    "else: raise ValueError(result.message)"
   ]
  },
  {
   "cell_type": "code",
   "execution_count": 9,
   "metadata": {
    "collapsed": true,
    "scrolled": true
   },
   "outputs": [],
   "source": [
    "# Moneyness\n",
    "moneyness = np.array(CK/f)\n",
    "\n",
    "# Model fitted parameters\n",
    "a, b, rho, m, s = result.x\n",
    "\n",
    "# SVI curve\n",
    "sviSmile = [impliedVolSVImodel(a,b,rho,m,s,f*x) for x in moneyness]"
   ]
  },
  {
   "cell_type": "code",
   "execution_count": 10,
   "metadata": {
    "scrolled": true
   },
   "outputs": [
    {
     "data": {
      "image/png": "[encoded data removed]",
      "text/plain": [
       "<Figure size 432x288 with 1 Axes>"
      ]
     },
     "metadata": {},
     "output_type": "display_data"
    }
   ],
   "source": [
    "# Superposition\n",
    "plt.plot(log(moneyness),sviSmile,label=\"SVI model $\\sigma^*$\")\n",
    "plt.plot(log(moneyness),CIV,label=\"Calls $\\sigma^*$\")\n",
    "plt.plot(log(moneyness),PIV,label=\"Puts $\\sigma^*$\")\n",
    "plt.xlabel('Forward moneyness $k_F$')\n",
    "plt.ylabel(r'Implied volatilities $(\\sigma^*)$')\n",
    "plt.title('Actual and modeled implied volatility smiles (puts and calls), $\\sigma^*(K)$')\n",
    "plt.legend()\n",
    "plt.savefig(\"SVI_calibrated\")\n",
    "plt.show()"
   ]
  },
  {
   "cell_type": "markdown",
   "metadata": {},
   "source": [
    "##### (b) Compute or estimate the price of an at-the-money digital call option paying off $\\$1$ if in one year NDX is greater than its current spot level, and zero otherwise: (i) in the Black-Scholes model, (ii) using $\\pm 1\\%$ call spreads, (iii) using the smile-adjusted formula on page 19."
   ]
  },
  {
   "cell_type": "code",
   "execution_count": 11,
   "metadata": {
    "scrolled": true
   },
   "outputs": [
    {
     "name": "stdout",
     "output_type": "stream",
     "text": [
      "Black-Scholes price: 0.4954313588567461\n"
     ]
    }
   ],
   "source": [
    "# Black-scholes model\n",
    "BSDig = lambda sigma,St,K,t,T,r: math.exp(-r*(T-t)) * N(d2(sigma,St,K,t,T,r))\n",
    "\n",
    "# Price\n",
    "BSDigprice = BSDig(0.1540,5048.,5048.,0.,1.,r)\n",
    "print(\"Black-Scholes price:\",BSDigprice)"
   ]
  },
  {
   "cell_type": "code",
   "execution_count": 12,
   "metadata": {
    "scrolled": true
   },
   "outputs": [
    {
     "name": "stdout",
     "output_type": "stream",
     "text": [
      "pm1% call spread price: 0.4190000000000003\n"
     ]
    }
   ],
   "source": [
    "# With pm 1% call spreads\n",
    "SellCallPlus1Percent = 308.2\n",
    "BuyCallMinus1Percent = 350.1\n",
    "StrikeDifference = 5500 - 5400\n",
    "\n",
    "# Price\n",
    "CSDigprice = (BuyCallMinus1Percent - SellCallPlus1Percent) / StrikeDifference\n",
    "print(\"pm1% call spread price:\",CSDigprice)"
   ]
  },
  {
   "cell_type": "code",
   "execution_count": 13,
   "metadata": {
    "scrolled": true
   },
   "outputs": [
    {
     "name": "stdout",
     "output_type": "stream",
     "text": [
      "Derivative of sigma wrt to K:\n"
     ]
    },
    {
     "data": {
      "text/latex": [
       "$$ \\frac{b \\left(\\frac{\\rho}{k} + \\frac{- m + \\log{\\left (\\frac{k}{f} \\right )}}{k \\sqrt{s^{2} + \\left(- m + \\log{\\left (\\frac{k}{f} \\right )}\\right)^{2}}}\\right)}{2 \\sqrt{a + b \\left(\\rho \\left(- m + \\log{\\left (\\frac{k}{f} \\right )}\\right) + \\sqrt{s^{2} + \\left(- m + \\log{\\left (\\frac{k}{f} \\right )}\\right)^{2}}\\right)}}$$"
      ],
      "text/plain": [
       "<IPython.core.display.Math object>"
      ]
     },
     "metadata": {},
     "output_type": "display_data"
    },
    {
     "name": "stdout",
     "output_type": "stream",
     "text": [
      "Smile adjusted price: 0.590237620868198\n"
     ]
    }
   ],
   "source": [
    "# Black-Scholes vega\n",
    "BSVega = lambda sigma,St,K,t,T,r: St * dN(d1(sigma,St,K,t,T,r)) * sqrt(T-t)\n",
    "\n",
    "# Derivative of SVI using sympy\n",
    "spImpliedVolSVImodel = lambda f,a,b,rho,m,s,k : sp.sqrt(a + b * (rho * (sp.log(k/f) - m) + sp.sqrt((sp.log(k/f)-m)**2 + s**2)))\n",
    "SPf, SPa, SPb, SPrho, SPm, SPs, SPk = sp.Symbol('f'), sp.Symbol('a'), sp.Symbol('b'), sp.Symbol('rho'), sp.Symbol('m'), sp.Symbol('s'), sp.Symbol('k')\n",
    "derivKSIV = sp.diff(spImpliedVolSVImodel(SPf, SPa, SPb, SPrho, SPm, SPs, SPk),SPk)\n",
    "print(\"Derivative of sigma wrt to K:\")\n",
    "fmt.displayMath(sp.latex(sp.S(derivKSIV,evaluate=False)))\n",
    "\n",
    "# Smile-adjusted formula\n",
    "def SADig(St,K,t,T,r):\n",
    "    sigma = impliedVolSVImodel(a,b,rho,m,s,K)\n",
    "    replacement = [(SPf,f),(SPa,a),(SPb,b),(SPrho,rho),(SPm,m),(SPs,s),(SPk,K)]\n",
    "    return(BSDig(sigma,St,K,t,T,r) - BSVega(sigma,St,K,t,T,r) * derivKSIV.subs(replacement))\n",
    "\n",
    "# Price\n",
    "SADigPrice = SADig(5048,5048,0,1,r)\n",
    "print(\"Smile adjusted price:\",SADigPrice)"
   ]
  },
  {
   "cell_type": "markdown",
   "metadata": {},
   "source": [
    "##### (c) Graph the implied distribution corresponding to the SVI model calibration."
   ]
  },
  {
   "cell_type": "code",
   "execution_count": 14,
   "metadata": {
    "scrolled": true
   },
   "outputs": [
    {
     "name": "stdout",
     "output_type": "stream",
     "text": [
      "Second derivative of sigma wrt to K:\n"
     ]
    },
    {
     "data": {
      "text/latex": [
       "$$ - \\frac{b^{2} \\left(\\frac{\\rho}{k} + \\frac{- m + \\log{\\left (\\frac{k}{f} \\right )}}{k \\sqrt{s^{2} + \\left(- m + \\log{\\left (\\frac{k}{f} \\right )}\\right)^{2}}}\\right)^{2}}{4 \\left(a + b \\left(\\rho \\left(- m + \\log{\\left (\\frac{k}{f} \\right )}\\right) + \\sqrt{s^{2} + \\left(- m + \\log{\\left (\\frac{k}{f} \\right )}\\right)^{2}}\\right)\\right)^{\\frac{3}{2}}} + \\frac{b}{2 \\sqrt{a + b \\left(\\rho \\left(- m + \\log{\\left (\\frac{k}{f} \\right )}\\right) + \\sqrt{s^{2} + \\left(- m + \\log{\\left (\\frac{k}{f} \\right )}\\right)^{2}}\\right)}} \\left(- \\frac{\\rho}{k^{2}} - \\frac{\\left(- m + \\log{\\left (\\frac{k}{f} \\right )}\\right)^{2}}{k^{2} \\left(s^{2} + \\left(- m + \\log{\\left (\\frac{k}{f} \\right )}\\right)^{2}\\right)^{\\frac{3}{2}}} - \\frac{- m + \\log{\\left (\\frac{k}{f} \\right )}}{k^{2} \\sqrt{s^{2} + \\left(- m + \\log{\\left (\\frac{k}{f} \\right )}\\right)^{2}}} + \\frac{1}{k^{2} \\sqrt{s^{2} + \\left(- m + \\log{\\left (\\frac{k}{f} \\right )}\\right)^{2}}}\\right)$$"
      ],
      "text/plain": [
       "<IPython.core.display.Math object>"
      ]
     },
     "metadata": {},
     "output_type": "display_data"
    }
   ],
   "source": [
    "# Second derivative of sigma wrt to K\n",
    "derivKSIV2 = sp.diff(derivKSIV,SPk)\n",
    "print(\"Second derivative of sigma wrt to K:\")\n",
    "fmt.displayMath(sp.latex(sp.S(derivKSIV2,evaluate=False)))"
   ]
  },
  {
   "cell_type": "code",
   "execution_count": 15,
   "metadata": {
    "scrolled": false
   },
   "outputs": [
    {
     "data": {
      "image/png": "[encoded data removed]",
      "text/plain": [
       "<Figure size 432x288 with 1 Axes>"
      ]
     },
     "metadata": {},
     "output_type": "display_data"
    }
   ],
   "source": [
    "# SVI implied distribution for the stock price at maturity\n",
    "def P(St,K):\n",
    "    sigma = impliedVolSVImodel(a,b,rho,m,s,K)\n",
    "    replacement = [(SPf,f),(SPa,a),(SPb,b),(SPrho,rho),(SPm,m),(SPs,s),(SPk,K)]\n",
    "    firstDerivKSigma, secondDerivKSigma = derivKSIV.subs(replacement), derivKSIV2.subs(replacement)\n",
    "    vald1, vald2 = d1(sigma,St,K,t,T,r), d2(sigma,St,K,t,T,r)\n",
    "    return((dN(vald2) / K * sigma * sqrt(T)) * (1 + 2 * vald1 * (K * firstDerivKSigma * sqrt(T)) + vald1 * vald2 * (K * firstDerivKSigma * sqrt(T))**2 + (K * secondDerivKSigma * sqrt(T)) * (K * sigma * sqrt(T))))\n",
    "\n",
    "strikes = CK.values\n",
    "S_0 = 5448\n",
    "probabilities = [P(S_0, s) for s in strikes]\n",
    "\n",
    "plt.plot(log(moneyness),probabilities);\n",
    "plt.xlabel('Forward moneyness $k_F$')\n",
    "plt.ylabel(r'Implied densities $(\\sigma^*)$')\n",
    "plt.title('Implied density (puts and calls used)')\n",
    "plt.savefig(\"implied_distribution\")\n",
    "plt.show();"
   ]
  },
  {
   "cell_type": "markdown",
   "metadata": {},
   "source": [
    "##### (d) Use the implied distribution to compute the price of the following European exotic options, where $X_0$ is the current index level and $X_T$ is the final index level:"
   ]
  },
  {
   "cell_type": "markdown",
   "metadata": {},
   "source": [
    "##### i. Digital call defined in question (b);"
   ]
  },
  {
   "cell_type": "code",
   "execution_count": 16,
   "metadata": {
    "scrolled": true
   },
   "outputs": [
    {
     "name": "stdout",
     "output_type": "stream",
     "text": [
      "0.01314946592589844\n"
     ]
    }
   ],
   "source": [
    "# Payoff\n",
    "strikeDig = 5048\n",
    "payoffDigCall = lambda X_T: 1.0 if X_T > strikeDig else 0.0\n",
    "\n",
    "# Price\n",
    "digCallValue = exp(-r*(T-t)) * quad(lambda K: P(S_0,K) * payoffDigCall(K),3000,6500)[0]\n",
    "print(digCallValue)"
   ]
  },
  {
   "cell_type": "markdown",
   "metadata": {},
   "source": [
    "##### ii. \"Reverse convertible\" paying off $\\max\\left(100\\%, 100\\% + p \\times \\frac{X_T- X_0}{X_0}\\right)$ if $\\frac{X_T}{X_0} > 75 \\%$ and $\\frac{X_T}{X_0}$ otherwise, where $p = 50\\%$. Then solve for $p$ to get a price of $100\\%$;"
   ]
  },
  {
   "cell_type": "code",
   "execution_count": 17,
   "metadata": {
    "scrolled": true
   },
   "outputs": [
    {
     "name": "stdout",
     "output_type": "stream",
     "text": [
      "0.02300596027329909\n"
     ]
    }
   ],
   "source": [
    "# Payoff\n",
    "X_0 = S_0\n",
    "payoffRevConv = lambda X_T, p=0.5: max(1.0, 1.0 + (p*(X_T-X_0))/X_0) if (X_T/X_0) > 0.75 else (X_T/X_0)\n",
    "\n",
    "# Price\n",
    "revConvValue = exp(-r*(T-t)) * quad(lambda K: P(S_0,K) * payoffRevConv(K),3000,6500)[0]\n",
    "print(revConvValue)"
   ]
  },
  {
   "cell_type": "code",
   "execution_count": 18,
   "metadata": {
    "scrolled": true
   },
   "outputs": [
    {
     "name": "stdout",
     "output_type": "stream",
     "text": [
      "[0.5]\n"
     ]
    }
   ],
   "source": [
    "# To get a price of 100%\n",
    "findP = lambda p: abs(exp(-r*(T-t)) * quad(lambda K: P(S_0,K) * payoffRevConv(K,p),3000,6500)[0] - 1.0)\n",
    "\n",
    "proba = optimize.minimize(fun=findP, x0=[[0.5]], method='SLSQP', bounds=((0+eps, 1-eps),), options={'disp': False})\n",
    "if proba.success: pSol = proba.x; print(pSol)\n",
    "else: raise ValueError(proba.message)"
   ]
  },
  {
   "cell_type": "markdown",
   "metadata": {},
   "source": [
    "##### iii. Option paying off $\\max\\left(0, \\frac{X_T- X_0}{X_T}\\right)$;\n"
   ]
  },
  {
   "cell_type": "code",
   "execution_count": 19,
   "metadata": {
    "scrolled": true
   },
   "outputs": [
    {
     "name": "stdout",
     "output_type": "stream",
     "text": [
      "0.0007964123424458321\n"
     ]
    }
   ],
   "source": [
    "# Payoff\n",
    "payoffOpt = lambda X_T: max(0, (X_T-X_0)/X_0)\n",
    "\n",
    "# Price\n",
    "optValue = exp(-r*(T-t)) * quad(lambda K: P(S_0,K) * payoffOpt(K),3000,6500)[0]\n",
    "print(optValue)"
   ]
  },
  {
   "cell_type": "markdown",
   "metadata": {},
   "source": [
    "##### iv. Log-contract paying off $-2\\log\\left(\\frac{X_T}{X_0}\\right)$. Price interpretation;"
   ]
  },
  {
   "cell_type": "code",
   "execution_count": 20,
   "metadata": {
    "scrolled": true
   },
   "outputs": [
    {
     "name": "stdout",
     "output_type": "stream",
     "text": [
      "0.004294625438839626\n"
     ]
    }
   ],
   "source": [
    "# TODO\n",
    "payoffLog = lambda X_T: -2 * np.log(X_T/X_0)\n",
    "\n",
    "# Price\n",
    "logValue = exp(-r*(T-t)) * quad(lambda K: P(S_0,K) * payoffLog(K),3000,6500)[0]\n",
    "print(logValue)"
   ]
  },
  {
   "cell_type": "markdown",
   "metadata": {},
   "source": [
    "## HW2-3"
   ]
  },
  {
   "cell_type": "markdown",
   "metadata": {},
   "source": [
    "#### Find conditions on the SVI model parameters to satisfy Lee’s asymptotic bounds on p. $22$: \n",
    "$$\\sigma^{\\star^2} (k_F,T) \\leq \\frac{\\beta}{T} |\\log{k_F}|,\\, \\beta \\in [0,2]$$"
   ]
  },
  {
   "cell_type": "code",
   "execution_count": null,
   "metadata": {
    "collapsed": true,
    "scrolled": true
   },
   "outputs": [],
   "source": [
    "# TODO"
   ]
  },
  {
   "cell_type": "markdown",
   "metadata": {},
   "source": [
    "## HW2-4"
   ]
  },
  {
   "cell_type": "markdown",
   "metadata": {},
   "source": [
    "#### (Problem $4.3$ p$.\\ 56$ in textbook, with corrections): Consider an underlying stock $S$ currently trading at $S_0 = 100$ which does not pay any dividend. Assume the local volatility function is $\\sigma_{loc} (t, S) = \\frac{0.1 - 0.15 \\times \\log\\left(\\frac{S}{S_0}\\right)}{\\sqrt{t}}$, and that interest rates are zero."
   ]
  },
  {
   "cell_type": "markdown",
   "metadata": {},
   "source": [
    "##### (a) Produce the graph of the local volatility surface for spots $0$ to $200$ and maturities $0$ to $5$ years."
   ]
  },
  {
   "cell_type": "code",
   "execution_count": null,
   "metadata": {
    "collapsed": true,
    "scrolled": true
   },
   "outputs": [],
   "source": [
    "# TODO"
   ]
  },
  {
   "cell_type": "markdown",
   "metadata": {},
   "source": [
    "##### (b) Write a Monte-Carlo algorithm to price the following $1$-year payoffs using $252$ time steps and e.g.\\ $10,000$ paths:"
   ]
  },
  {
   "cell_type": "markdown",
   "metadata": {},
   "source": [
    "##### i. \"Capped quadratic\" option: $\\min\\left(1,\\frac{S_1^2}{S_0^2}\\right)$;"
   ]
  },
  {
   "cell_type": "code",
   "execution_count": null,
   "metadata": {
    "collapsed": true,
    "scrolled": true
   },
   "outputs": [],
   "source": [
    "# TODO"
   ]
  },
  {
   "cell_type": "markdown",
   "metadata": {},
   "source": [
    "##### ii. Asian at-the-money-call: $\\max\\left(0, \\frac{S_{0.25} + S_{0.5} + S_{0.75} + S_1}{4 \\times S_0} - 1\\right)$;"
   ]
  },
  {
   "cell_type": "code",
   "execution_count": null,
   "metadata": {
    "collapsed": true,
    "scrolled": true
   },
   "outputs": [],
   "source": [
    "# TODO"
   ]
  },
  {
   "cell_type": "markdown",
   "metadata": {},
   "source": [
    "##### iii. Barrier call: $\\max(0, S_1 - S_0)$ if $S$ always traded above $80$ using $252$ daily observations, 0 otherwise;"
   ]
  },
  {
   "cell_type": "code",
   "execution_count": null,
   "metadata": {
    "collapsed": true,
    "scrolled": true
   },
   "outputs": [],
   "source": [
    "# TODO"
   ]
  },
  {
   "cell_type": "markdown",
   "metadata": {},
   "source": [
    "## HW2-5"
   ]
  },
  {
   "cell_type": "markdown",
   "metadata": {},
   "source": [
    "#### The payoff of a $1$-year at-the-money call on the geometric average return of two non-dividend paying stocks $X, Y$ is given as: $$ f(X_T,Y_T) = \\max\\left(0, \\sqrt{\\frac{X_T Y_T}{X_0 Y_0}} - 1\\right)$$ where $T = 1$ year and $X_t, Y_t$ are the respective underlying spot prices of $X, Y$ at any time $t$."
   ]
  },
  {
   "cell_type": "markdown",
   "metadata": {},
   "source": [
    "##### (a) Derive analytical formulas for the call value at any time $0 \\leq t \\leq T$ in the Black-Scholes model with constant correlation $\\rho$ (cf. Section $6-4$ in the textbook, to be covered during Session $5$.)"
   ]
  },
  {
   "cell_type": "markdown",
   "metadata": {},
   "source": [
    "Please refer to the pdf report for the derivation."
   ]
  },
  {
   "cell_type": "code",
   "execution_count": 54,
   "metadata": {
    "collapsed": true,
    "scrolled": true
   },
   "outputs": [],
   "source": [
    "# Value function of the call\n",
    "d1star = lambda X0,Y0,Xt,Yt,sigma1,sigma2,rho,T,t,r: (2/(np.sqrt(sigma1**2 + sigma2**2 + 2 * rho * sigma1 * sigma2) * np.sqrt(T-t))) * (np.log(np.sqrt(Xt * Yt)/np.sqrt(X0 * Y0)) + (r - 0.25 * (sigma1**2 + sigma2**2) + (sigma1**2 + sigma2**2 + 2 * rho * sigma1 * sigma2)/ 8) * (T-t))\n",
    "d2star = lambda X0,Y0,Xt,Yt,sigma1,sigma2,rho,T,t,r: d1star(X0,Y0,Xt,Yt,sigma1,sigma2,rho,T,t,r) - 0.5 * np.sqrt(sigma1**2 + sigma2**2 + 2 * rho * sigma1 * sigma2) * np.sqrt(T - t)\n",
    "\n",
    "geomAvCall = lambda X0,Y0,Xt,Yt,sigma1,sigma2,rho,T,t,r: np.sqrt(Xt * Yt / X0 * Y0) * np.exp(0.25 * (sigma1**2 + sigma2**2) * (T-t)) * N(d1star(X0,Y0,Xt,Yt,sigma1,sigma2,rho,T,t,r)) + exp(-r*(T-t)) * N(d2star(X0,Y0,Xt,Yt,sigma1,sigma2,rho,T,t,r))"
   ]
  },
  {
   "cell_type": "markdown",
   "metadata": {},
   "source": [
    "##### (b) Compute the value of the call using a $5\\%$ interest rate, $20\\%$ volatility for $X$, $30\\%$ volatility for $Y$, and $\\rho = 0.4$. Use finite differences to estimate the deltas, gammas and cross-gamma of the call."
   ]
  },
  {
   "cell_type": "code",
   "execution_count": 101,
   "metadata": {
    "scrolled": true
   },
   "outputs": [
    {
     "name": "stdout",
     "output_type": "stream",
     "text": [
      "1.060787523409921\n"
     ]
    }
   ],
   "source": [
    "# Value of the call with these parameters\n",
    "X0, Y0 = 1.0, 1.0\n",
    "Xt, Yt = 1.0, 1.0\n",
    "sigma1, sigma2 = 0.2, 0.3\n",
    "rho = 0.4\n",
    "rbis = 0.05\n",
    "\n",
    "# Value\n",
    "geomAvCallVal = geomAvCall(X0,Y0,Xt,Yt,sigma1,sigma2,rho,T,t,rbis)\n",
    "print(geomAvCallVal)"
   ]
  },
  {
   "cell_type": "code",
   "execution_count": 93,
   "metadata": {
    "scrolled": true
   },
   "outputs": [
    {
     "name": "stdout",
     "output_type": "stream",
     "text": [
      "2.1556575632610975\n",
      "2.1556575632610975\n",
      "-1.4282746985120147\n",
      "-1.4282746985120147\n",
      "1.4282746985120147\n"
     ]
    }
   ],
   "source": [
    "# We take the derivative wrt to the each stock\n",
    "\n",
    "# Delta\n",
    "def deltaGeoX(X0,Y0,Yt,sigma1,sigma2,rho,T,t,rbis,xt1,xt2=0.0):\n",
    "    if(xt2 == 0.0):\n",
    "        xt2 = 1.0001 * xt1\n",
    "        \n",
    "    return((geomAvCall(X0,Y0,xt2,Yt,sigma1,sigma2,rho,T,t,rbis) - geomAvCall(X0,Y0,xt1,Yt,sigma1,sigma2,rho,T,t,rbis))/(xt2-xt1))\n",
    "\n",
    "def deltaGeoY(X0,Y0,Xt,sigma1,sigma2,rho,T,t,rbis,yt1,yt2=0.0):\n",
    "    if(yt2 == 0.0):\n",
    "        yt2 = 1.0001 * yt1\n",
    "        \n",
    "    return((geomAvCall(X0,Y0,Xt,yt2,sigma1,sigma2,rho,T,t,rbis) - geomAvCall(X0,Y0,Xt,yt1,sigma1,sigma2,rho,T,t,rbis))/(yt2-yt1))\n",
    "\n",
    "print(deltaGeoX(X0,Y0,Yt,sigma1,sigma2,rho,T,t,rbis,Xt))\n",
    "print(deltaGeoY(X0,Y0,Xt,sigma1,sigma2,rho,T,t,rbis,Yt))\n",
    "\n",
    "# Gammas\n",
    "def gammaGeoX(X0,Y0,Yt,sigma1,sigma2,rho,T,t,rbis,xt1,xt2=0.0,xt3=0.0):\n",
    "    if(xt2 == 0.0):\n",
    "        xt2 = 0.9999 * xt1\n",
    "    if(xt3 == 0.0):\n",
    "        xt3 = 1.0001 * xt1\n",
    "    \n",
    "    return((geomAvCall(X0,Y0,xt2,Yt,sigma1,sigma2,rho,T,t,rbis) - 2 * geomAvCall(X0,Y0,xt1,Yt,sigma1,sigma2,rho,T,t,rbis) + geomAvCall(X0,Y0,xt3,Yt,sigma1,sigma2,rho,T,t,rbis))/ ((xt3-xt1)*(xt1 - xt2)))\n",
    "\n",
    "def gammaGeoY(X0,Y0,Xt,sigma1,sigma2,rho,T,t,rbis,yt1,yt2=0.0,yt3=0.0):\n",
    "    if(yt2 == 0.0):\n",
    "        yt2 = 0.9999 * yt1\n",
    "    if(yt3 == 0.0):\n",
    "        yt3 = 1.0001 * yt1\n",
    "\n",
    "    return((geomAvCall(X0,Y0,Xt,yt2,sigma1,sigma2,rho,T,t,rbis) - 2 * geomAvCall(X0,Y0,Xt,yt1,sigma1,sigma2,rho,T,t,rbis) + geomAvCall(X0,Y0,Xt,yt3,sigma1,sigma2,rho,T,t,rbis))/ ((yt3-yt1)*(yt1 - yt2)))\n",
    "\n",
    "\n",
    "def gammaGeoXY(X0,Y0,sigma1,sigma2,rho,T,t,rbis,xt1,yt1,xt2=0.0,yt2=0.0):\n",
    "    if(yt2 == 0.0):\n",
    "        yt2 = 0.9999 * yt1\n",
    "    if(xt2 == 0.0):\n",
    "        xt2 = 1.0001 * xt1\n",
    "    \n",
    "    return((geomAvCall(X0,Y0,xt2,yt1,sigma1,sigma2,rho,T,t,rbis) - 2 * geomAvCall(X0,Y0,xt1,yt1,sigma1,sigma2,rho,T,t,rbis) + geomAvCall(X0,Y0,xt1,yt2,sigma1,sigma2,rho,T,t,rbis))/ ((yt2-yt1)*(xt2-xt1)))\n",
    "\n",
    "print(gammaGeoX(X0,Y0,Xt,sigma1,sigma2,rho,T,t,rbis,Yt))\n",
    "print(gammaGeoY(X0,Y0,Yt,sigma1,sigma2,rho,T,t,rbis,Xt))\n",
    "print(gammaGeoXY(X0,Y0,sigma1,sigma2,rho,T,t,rbis,Xt,Yt))"
   ]
  },
  {
   "cell_type": "markdown",
   "metadata": {},
   "source": [
    "##### (c) You purchased the call on a $\\$10,000,000$ notional. What actions would you take to delta-hedge your position? What would then be your instant $P\\&L$ in the matrix of scenarios. Generally, graph your instant $P\\&L$ against percent changes $x, y$ in underlying stock prices."
   ]
  },
  {
   "cell_type": "code",
   "execution_count": 134,
   "metadata": {
    "scrolled": true
   },
   "outputs": [
    {
     "name": "stdout",
     "output_type": "stream",
     "text": [
      "Call price at time 0: 5937170.744310504\n",
      "Initial deltas (X,Y): 1.2564609974129126 1.2564609974129126\n",
      "Setup cost: 19192049.203947745\n",
      "PnL matrix: [[ 1268867.08186714   509080.58182973    14286.09273843]\n",
      " [  509080.58182973  -250705.91820769  -745500.40729899]\n",
      " [   14286.09273843  -745500.40729899 -1240294.89639029]]\n"
     ]
    },
    {
     "data": {
      "image/png": "[encoded data removed]",
      "text/plain": [
       "<Figure size 432x288 with 1 Axes>"
      ]
     },
     "metadata": {},
     "output_type": "display_data"
    }
   ],
   "source": [
    "# Notional (so that sqrt(X0*Y0) = 10000000)\n",
    "X0,Y0 = 10000000,10000000\n",
    "Xt,Yt = 10000000,10000000\n",
    "\n",
    "# Call price\n",
    "callPrice = geomAvCall(X0,Y0,X0,Y0,sigma1,sigma2,rho,T,t,rbis)\n",
    "print(\"Call price at time 0:\",callPrice)\n",
    "initialDeltaX, initialDeltaY = deltaGeoX(X0,Y0,Yt,sigma1,sigma2,rho,T,t,rbis,Xt), deltaGeoY(X0,Y0,Xt,sigma1,sigma2,rho,T,t,rbis,Yt) \n",
    "print(\"Initial deltas (X,Y):\", initialDeltaX,initialDeltaY)\n",
    "initialDeltaHedge = X0*deltaGeoX(X0,Y0,Yt,sigma1,sigma2,rho,T,t,rbis,Xt) + Y0*deltaGeoY(X0,Y0,Xt,sigma1,sigma2,rho,T,t,rbis,Yt)\n",
    "initialCost = initialDeltaHedge - callPrice\n",
    "print(\"Setup cost:\", initialCost)\n",
    "# Situations\n",
    "situations = np.array([0.95,1.01,1.05])\n",
    "\n",
    "# Instant PnL matrix\n",
    "PnLMatrix = np.zeros((3,3))\n",
    "# PnLMatrix += initialCost\n",
    "\n",
    "for i in range(0,3):\n",
    "    for j in range(0,3):\n",
    "        PnLMatrix[i,j] += ((1-situations[i])*Xt*deltaGeoX(X0,Y0,Yt,sigma1,sigma2,rho,T,t,rbis,Xt,situations[i]*Xt)) + ((1-situations[j])*Yt*deltaGeoY(X0,Y0,Xt,sigma1,sigma2,rho,T,t,rbis,Yt,situations[j]*Yt))\n",
    "\n",
    "print(\"PnL matrix:\", PnLMatrix)\n",
    "\n",
    "# Plots\n",
    "percentChange = (situations - 1.0) * 100\n",
    "plt.plot(percentChange,PnLMatrix[0,:], label=\"-5% change in x\");\n",
    "plt.plot(percentChange,PnLMatrix[1,:], label=\"+1% change in x\");\n",
    "plt.plot(percentChange,PnLMatrix[2,:], label=\"+5% change in x\");\n",
    "plt.xlabel('Percents change in y')\n",
    "plt.ylabel(r'Instant P&L')\n",
    "plt.title('Delta-hedged portfolio instant P&L')\n",
    "plt.legend()\n",
    "plt.savefig(\"instant_pnl\")\n",
    "plt.show();"
   ]
  }
 ],
 "metadata": {
  "kernelspec": {
   "display_name": "Python 3",
   "language": "python",
   "name": "python3"
  },
  "language_info": {
   "codemirror_mode": {
    "name": "ipython",
    "version": 3
   },
   "file_extension": ".py",
   "mimetype": "text/x-python",
   "name": "python",
   "nbconvert_exporter": "python",
   "pygments_lexer": "ipython3",
   "version": "3.6.3"
  }
 },
 "nbformat": 4,
 "nbformat_minor": 1
}
