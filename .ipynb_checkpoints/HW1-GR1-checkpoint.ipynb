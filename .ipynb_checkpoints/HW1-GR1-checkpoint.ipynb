{
 "cells": [
  {
   "cell_type": "markdown",
   "metadata": {},
   "source": [
    "# Homework 1 ATED - Group 1"
   ]
  },
  {
   "cell_type": "code",
   "execution_count": 103,
   "metadata": {
    "scrolled": true
   },
   "outputs": [
    {
     "name": "stdout",
     "output_type": "stream",
     "text": [
      "Populating the interactive namespace from numpy and matplotlib\n"
     ]
    },
    {
     "name": "stderr",
     "output_type": "stream",
     "text": [
      "/Users/Ovie/anaconda3/lib/python3.6/site-packages/IPython/core/magics/pylab.py:160: UserWarning: pylab import has clobbered these variables: ['sum', 'copy']\n",
      "`%matplotlib` prevents importing * from pylab and numpy\n",
      "  \"\\n`%matplotlib` prevents importing * from pylab and numpy\"\n"
     ]
    }
   ],
   "source": [
    "%pylab inline\n",
    "import math\n",
    "import time\n",
    "import copy\n",
    "import numpy as np\n",
    "import matplotlib.pyplot as plt\n",
    "import pandas as pd"
   ]
  },
  {
   "cell_type": "markdown",
   "metadata": {},
   "source": [
    "## HW1-1"
   ]
  },
  {
   "cell_type": "markdown",
   "metadata": {},
   "source": [
    "#### You are short 100 at-the-money call option contracts on the S&P 500 index expiring in one year with a contract multiplier of 100. The current index level is 2600, the interest and dividend rates are zero."
   ]
  },
  {
   "cell_type": "markdown",
   "metadata": {},
   "source": [
    "##### Simulate the evolution of the index level at periods Δt as a geometric Brownian motion with volatility $\\sigma$ (free parameter) and calculate the corresponding call value, delta, gamma and theta using a fixed 20\\% implied volatility."
   ]
  },
  {
   "cell_type": "code",
   "execution_count": 4,
   "metadata": {
    "collapsed": true,
    "scrolled": true
   },
   "outputs": [],
   "source": [
    "# CODE"
   ]
  },
  {
   "cell_type": "markdown",
   "metadata": {},
   "source": [
    "##### Then simulate your actual cumulative P\\&L when periodically delta-hedging your position (assuming you can trade the index as an asset) and compare it against the proxy formula on slide 11 for the following matrix of parameters."
   ]
  },
  {
   "cell_type": "code",
   "execution_count": 5,
   "metadata": {
    "collapsed": true,
    "scrolled": true
   },
   "outputs": [],
   "source": [
    "# CODE"
   ]
  },
  {
   "cell_type": "markdown",
   "metadata": {},
   "source": [
    "##### Provide a statistical analysis of your results over 10,000 simulations, where one simulation is an entire index path."
   ]
  },
  {
   "cell_type": "code",
   "execution_count": 6,
   "metadata": {
    "collapsed": true,
    "scrolled": true
   },
   "outputs": [],
   "source": [
    "# CODE"
   ]
  },
  {
   "cell_type": "markdown",
   "metadata": {},
   "source": [
    "## HW1-3"
   ]
  },
  {
   "cell_type": "markdown",
   "metadata": {},
   "source": [
    "#### On March 29, 2018 the S$\\&$P 500 index (SPX) is 2611.53 and the 12-month VIX is 21.28. The implied volatility smile of SPX options expiring on March 15, 2019 is given as:\n",
    "$$ \\sigma^* = \\sqrt{a + b \\left( \\rho (x - m)  + \\sqrt{(x-m)^2 + s^2} \\right)} $$\n",
    "#### where $a = 0.009$, $b = 0.11$, $\\rho = −0.12$, $m = 0.2$, $s = 0.05$, $x = \\log \\frac{K}{F}$ is log-moneyness and $F = 2625.10$ is the forward price. The continuous interest rate is 2.09 % p.a."
   ]
  },
  {
   "cell_type": "markdown",
   "metadata": {},
   "source": [
    "##### Draw the implied volatility smile curve for strikes $500 \\leq K \\leq 5000$."
   ]
  },
  {
   "cell_type": "code",
   "execution_count": 18,
   "metadata": {
    "scrolled": true
   },
   "outputs": [
    {
     "data": {
      "image/png": "[encoded data removed]",
      "text/plain": [
       "<matplotlib.figure.Figure at 0x1199c6c18>"
      ]
     },
     "metadata": {},
     "output_type": "display_data"
    }
   ],
   "source": [
    "a, b, rho, m, s = .009, .11, -.12, .2, .05\n",
    "s2, F, r = s**2, 2625.10, .0209\n",
    "strikes = np.arange(500, 5000, 1)\n",
    "moneyness = np.array(np.log(strikes/F))\n",
    "\n",
    "impliedVolSVImodel = lambda x : np.sqrt(a + b * (rho * (x - m) + np.sqrt((x-m)**2 + s**2)))\n",
    "sviSmile = [impliedVolSVImodel(m) for m in moneyness]\n",
    "\n",
    "plt.plot(moneyness, sviSmile)\n",
    "plt.xlabel('Forward moneyness $k_F$')\n",
    "plt.ylabel(r'Implied volatility $(\\sigma^*)$')\n",
    "plt.title('Implied volatility smile curve, $\\sigma^*(K)$')\n",
    "plt.show()"
   ]
  },
  {
   "cell_type": "markdown",
   "metadata": {},
   "source": [
    "##### Calculate the fair strike $K_{var}$ of a variance swap expiring on March 15, 2019 with the method of your choice. How close is your calculation to the 12-month VIX? Why is it not exactly the same?"
   ]
  },
  {
   "cell_type": "code",
   "execution_count": 100,
   "metadata": {},
   "outputs": [],
   "source": [
    "def fractionalSums(df, o) :\n",
    "    if (o == 1) : # Call options\n",
    "        df = df.loc[df['Strike'] >= F]\n",
    "    else :\n",
    "        df = df.loc[df['Strike'] <= F]\n",
    "    deltaK = df[['Strike']].diff()\n",
    "    deltaK.iloc[0] = deltaK.iloc[1]\n",
    "    \n",
    "    sum = 0.0\n",
    "    for i in np.arange(len(df)) :\n",
    "        sum += df.iat[i,1] * deltaK.iloc[i]['Strike'] / (df.iat[i,0]**2)\n",
    "    return(sum)\n",
    "\n",
    "puts = pd.read_excel('SPX_optionsData.xlsx', sheetname = 'Data_Put')\n",
    "calls = pd.read_excel('SPX_optionsData.xlsx', sheetname = 'Data_Call')"
   ]
  },
  {
   "cell_type": "code",
   "execution_count": 105,
   "metadata": {},
   "outputs": [
    {
     "name": "stdout",
     "output_type": "stream",
     "text": [
      "19.034461743021915 2.2455382569780866\n"
     ]
    }
   ],
   "source": [
    "T = 1\n",
    "K_var = 100*math.sqrt(2*math.exp(r*T)/T * (fractionalSums(puts, -1) + fractionalSums(calls, 1)))\n",
    "print(K_var, 21.28-K_var)"
   ]
  },
  {
   "cell_type": "markdown",
   "metadata": {},
   "source": [
    "The computation for $K_{var}$ is quite close to the 12-month VIX.\n",
    "$$VIX-K_{var}=21.28-19.03=2.25$$"
   ]
  },
  {
   "cell_type": "code",
   "execution_count": null,
   "metadata": {
    "collapsed": true
   },
   "outputs": [],
   "source": []
  }
 ],
 "metadata": {
  "kernelspec": {
   "display_name": "Python 3",
   "language": "python",
   "name": "python3"
  },
  "language_info": {
   "codemirror_mode": {
    "name": "ipython",
    "version": 3
   },
   "file_extension": ".py",
   "mimetype": "text/x-python",
   "name": "python",
   "nbconvert_exporter": "python",
   "pygments_lexer": "ipython3",
   "version": "3.6.2"
  }
 },
 "nbformat": 4,
 "nbformat_minor": 1
}
